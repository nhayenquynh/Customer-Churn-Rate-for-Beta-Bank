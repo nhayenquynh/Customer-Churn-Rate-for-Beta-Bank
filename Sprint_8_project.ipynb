{
 "cells": [
  {
   "cell_type": "markdown",
   "metadata": {},
   "source": [
    "# Project Description: "
   ]
  },
  {
   "cell_type": "markdown",
   "metadata": {},
   "source": [
    "Beta Bank customers are leaving: little by little, chipping away every month. The bankers figured out it’s cheaper to save the existing customers rather than to attract new ones.We need to predict whether a customer will leave the bank soon. You have the data on clients’ past behavior and termination of contracts with the bank.Build a model with the maximum possible F1 score. To pass the project, you need an F1 score of at least 0.59. Check the F1 for the test set.Additionally, measure the AUC-ROC metric and compare it with the F1."
   ]
  },
  {
   "cell_type": "markdown",
   "metadata": {},
   "source": [
    "## Import Libraries and Prepare Data"
   ]
  },
  {
   "cell_type": "code",
   "execution_count": 1,
   "metadata": {},
   "outputs": [],
   "source": [
    "import pandas as pd\n",
    "import matplotlib.pyplot as plt\n",
    "from sklearn.model_selection import train_test_split\n",
    "from sklearn.linear_model import LogisticRegression\n",
    "from sklearn.tree import DecisionTreeClassifier\n",
    "from sklearn.ensemble import RandomForestClassifier\n",
    "from sklearn.model_selection import GridSearchCV\n",
    "from sklearn.preprocessing import StandardScaler \n",
    "from sklearn.metrics import accuracy_score \n",
    "from sklearn.metrics import confusion_matrix \n",
    "from sklearn.metrics import recall_score \n",
    "from sklearn.metrics import precision_score \n",
    "from sklearn.metrics import f1_score \n",
    "from sklearn.metrics import precision_recall_curve\n",
    "from sklearn.utils import shuffle\n",
    "from sklearn.metrics import roc_curve \n",
    "from sklearn.metrics import mean_squared_error\n",
    "from sklearn.metrics import r2_score\n",
    "from sklearn.metrics import mean_absolute_error\n",
    "from sklearn.utils import resample\n",
    "from sklearn.metrics import roc_auc_score\n",
    "import warnings\n",
    "warnings.filterwarnings('ignore')"
   ]
  },
  {
   "cell_type": "code",
   "execution_count": 2,
   "metadata": {},
   "outputs": [
    {
     "data": {
      "text/html": [
       "<div>\n",
       "<style scoped>\n",
       "    .dataframe tbody tr th:only-of-type {\n",
       "        vertical-align: middle;\n",
       "    }\n",
       "\n",
       "    .dataframe tbody tr th {\n",
       "        vertical-align: top;\n",
       "    }\n",
       "\n",
       "    .dataframe thead th {\n",
       "        text-align: right;\n",
       "    }\n",
       "</style>\n",
       "<table border=\"1\" class=\"dataframe\">\n",
       "  <thead>\n",
       "    <tr style=\"text-align: right;\">\n",
       "      <th></th>\n",
       "      <th>RowNumber</th>\n",
       "      <th>CustomerId</th>\n",
       "      <th>Surname</th>\n",
       "      <th>CreditScore</th>\n",
       "      <th>Geography</th>\n",
       "      <th>Gender</th>\n",
       "      <th>Age</th>\n",
       "      <th>Tenure</th>\n",
       "      <th>Balance</th>\n",
       "      <th>NumOfProducts</th>\n",
       "      <th>HasCrCard</th>\n",
       "      <th>IsActiveMember</th>\n",
       "      <th>EstimatedSalary</th>\n",
       "      <th>Exited</th>\n",
       "    </tr>\n",
       "  </thead>\n",
       "  <tbody>\n",
       "    <tr>\n",
       "      <th>0</th>\n",
       "      <td>1</td>\n",
       "      <td>15634602</td>\n",
       "      <td>Hargrave</td>\n",
       "      <td>619</td>\n",
       "      <td>France</td>\n",
       "      <td>Female</td>\n",
       "      <td>42</td>\n",
       "      <td>2.0</td>\n",
       "      <td>0.00</td>\n",
       "      <td>1</td>\n",
       "      <td>1</td>\n",
       "      <td>1</td>\n",
       "      <td>101348.88</td>\n",
       "      <td>1</td>\n",
       "    </tr>\n",
       "    <tr>\n",
       "      <th>1</th>\n",
       "      <td>2</td>\n",
       "      <td>15647311</td>\n",
       "      <td>Hill</td>\n",
       "      <td>608</td>\n",
       "      <td>Spain</td>\n",
       "      <td>Female</td>\n",
       "      <td>41</td>\n",
       "      <td>1.0</td>\n",
       "      <td>83807.86</td>\n",
       "      <td>1</td>\n",
       "      <td>0</td>\n",
       "      <td>1</td>\n",
       "      <td>112542.58</td>\n",
       "      <td>0</td>\n",
       "    </tr>\n",
       "    <tr>\n",
       "      <th>2</th>\n",
       "      <td>3</td>\n",
       "      <td>15619304</td>\n",
       "      <td>Onio</td>\n",
       "      <td>502</td>\n",
       "      <td>France</td>\n",
       "      <td>Female</td>\n",
       "      <td>42</td>\n",
       "      <td>8.0</td>\n",
       "      <td>159660.80</td>\n",
       "      <td>3</td>\n",
       "      <td>1</td>\n",
       "      <td>0</td>\n",
       "      <td>113931.57</td>\n",
       "      <td>1</td>\n",
       "    </tr>\n",
       "    <tr>\n",
       "      <th>3</th>\n",
       "      <td>4</td>\n",
       "      <td>15701354</td>\n",
       "      <td>Boni</td>\n",
       "      <td>699</td>\n",
       "      <td>France</td>\n",
       "      <td>Female</td>\n",
       "      <td>39</td>\n",
       "      <td>1.0</td>\n",
       "      <td>0.00</td>\n",
       "      <td>2</td>\n",
       "      <td>0</td>\n",
       "      <td>0</td>\n",
       "      <td>93826.63</td>\n",
       "      <td>0</td>\n",
       "    </tr>\n",
       "    <tr>\n",
       "      <th>4</th>\n",
       "      <td>5</td>\n",
       "      <td>15737888</td>\n",
       "      <td>Mitchell</td>\n",
       "      <td>850</td>\n",
       "      <td>Spain</td>\n",
       "      <td>Female</td>\n",
       "      <td>43</td>\n",
       "      <td>2.0</td>\n",
       "      <td>125510.82</td>\n",
       "      <td>1</td>\n",
       "      <td>1</td>\n",
       "      <td>1</td>\n",
       "      <td>79084.10</td>\n",
       "      <td>0</td>\n",
       "    </tr>\n",
       "  </tbody>\n",
       "</table>\n",
       "</div>"
      ],
      "text/plain": [
       "   RowNumber  CustomerId   Surname  CreditScore Geography  Gender  Age  \\\n",
       "0          1    15634602  Hargrave          619    France  Female   42   \n",
       "1          2    15647311      Hill          608     Spain  Female   41   \n",
       "2          3    15619304      Onio          502    France  Female   42   \n",
       "3          4    15701354      Boni          699    France  Female   39   \n",
       "4          5    15737888  Mitchell          850     Spain  Female   43   \n",
       "\n",
       "   Tenure    Balance  NumOfProducts  HasCrCard  IsActiveMember  \\\n",
       "0     2.0       0.00              1          1               1   \n",
       "1     1.0   83807.86              1          0               1   \n",
       "2     8.0  159660.80              3          1               0   \n",
       "3     1.0       0.00              2          0               0   \n",
       "4     2.0  125510.82              1          1               1   \n",
       "\n",
       "   EstimatedSalary  Exited  \n",
       "0        101348.88       1  \n",
       "1        112542.58       0  \n",
       "2        113931.57       1  \n",
       "3         93826.63       0  \n",
       "4         79084.10       0  "
      ]
     },
     "execution_count": 2,
     "metadata": {},
     "output_type": "execute_result"
    }
   ],
   "source": [
    "#load the data and print 5 rows\n",
    "df = pd.read_csv('/datasets/Churn.csv')\n",
    "df.head()"
   ]
  },
  {
   "cell_type": "code",
   "execution_count": 3,
   "metadata": {},
   "outputs": [
    {
     "name": "stdout",
     "output_type": "stream",
     "text": [
      "<class 'pandas.core.frame.DataFrame'>\n",
      "RangeIndex: 10000 entries, 0 to 9999\n",
      "Data columns (total 14 columns):\n",
      " #   Column           Non-Null Count  Dtype  \n",
      "---  ------           --------------  -----  \n",
      " 0   RowNumber        10000 non-null  int64  \n",
      " 1   CustomerId       10000 non-null  int64  \n",
      " 2   Surname          10000 non-null  object \n",
      " 3   CreditScore      10000 non-null  int64  \n",
      " 4   Geography        10000 non-null  object \n",
      " 5   Gender           10000 non-null  object \n",
      " 6   Age              10000 non-null  int64  \n",
      " 7   Tenure           9091 non-null   float64\n",
      " 8   Balance          10000 non-null  float64\n",
      " 9   NumOfProducts    10000 non-null  int64  \n",
      " 10  HasCrCard        10000 non-null  int64  \n",
      " 11  IsActiveMember   10000 non-null  int64  \n",
      " 12  EstimatedSalary  10000 non-null  float64\n",
      " 13  Exited           10000 non-null  int64  \n",
      "dtypes: float64(3), int64(8), object(3)\n",
      "memory usage: 1.1+ MB\n"
     ]
    }
   ],
   "source": [
    "#checking information and data types\n",
    "df.info()"
   ]
  },
  {
   "cell_type": "code",
   "execution_count": 4,
   "metadata": {},
   "outputs": [
    {
     "data": {
      "text/plain": [
       "RowNumber            0\n",
       "CustomerId           0\n",
       "Surname              0\n",
       "CreditScore          0\n",
       "Geography            0\n",
       "Gender               0\n",
       "Age                  0\n",
       "Tenure             909\n",
       "Balance              0\n",
       "NumOfProducts        0\n",
       "HasCrCard            0\n",
       "IsActiveMember       0\n",
       "EstimatedSalary      0\n",
       "Exited               0\n",
       "dtype: int64"
      ]
     },
     "execution_count": 4,
     "metadata": {},
     "output_type": "execute_result"
    }
   ],
   "source": [
    "#checking for missing values \n",
    "df.isna().sum()"
   ]
  },
  {
   "cell_type": "markdown",
   "metadata": {},
   "source": [
    "There are 909 blanks in tenure column. I will replace those missing values with tenure's mean."
   ]
  },
  {
   "cell_type": "code",
   "execution_count": 5,
   "metadata": {},
   "outputs": [],
   "source": [
    "df['Tenure'] = df['Tenure'].fillna(df['Tenure'].mean())"
   ]
  },
  {
   "cell_type": "code",
   "execution_count": 6,
   "metadata": {},
   "outputs": [
    {
     "data": {
      "text/plain": [
       "dtype('int64')"
      ]
     },
     "execution_count": 6,
     "metadata": {},
     "output_type": "execute_result"
    }
   ],
   "source": [
    "#change Tenure column from float to int to be consistent with NumOfProducts, HasCrCard, & IsActiveMember\n",
    "df['Tenure'] = df['Tenure'].astype(int)\n",
    "\n",
    "#checking to see if Tenure has the correct datatype now\n",
    "df['Tenure'].dtype"
   ]
  },
  {
   "cell_type": "code",
   "execution_count": 7,
   "metadata": {},
   "outputs": [
    {
     "data": {
      "text/html": [
       "<div>\n",
       "<style scoped>\n",
       "    .dataframe tbody tr th:only-of-type {\n",
       "        vertical-align: middle;\n",
       "    }\n",
       "\n",
       "    .dataframe tbody tr th {\n",
       "        vertical-align: top;\n",
       "    }\n",
       "\n",
       "    .dataframe thead th {\n",
       "        text-align: right;\n",
       "    }\n",
       "</style>\n",
       "<table border=\"1\" class=\"dataframe\">\n",
       "  <thead>\n",
       "    <tr style=\"text-align: right;\">\n",
       "      <th></th>\n",
       "      <th>CreditScore</th>\n",
       "      <th>Geography</th>\n",
       "      <th>Gender</th>\n",
       "      <th>Age</th>\n",
       "      <th>Tenure</th>\n",
       "      <th>Balance</th>\n",
       "      <th>NumOfProducts</th>\n",
       "      <th>HasCrCard</th>\n",
       "      <th>IsActiveMember</th>\n",
       "      <th>EstimatedSalary</th>\n",
       "      <th>Exited</th>\n",
       "    </tr>\n",
       "  </thead>\n",
       "  <tbody>\n",
       "    <tr>\n",
       "      <th>0</th>\n",
       "      <td>619</td>\n",
       "      <td>France</td>\n",
       "      <td>Female</td>\n",
       "      <td>42</td>\n",
       "      <td>2</td>\n",
       "      <td>0.00</td>\n",
       "      <td>1</td>\n",
       "      <td>1</td>\n",
       "      <td>1</td>\n",
       "      <td>101348.88</td>\n",
       "      <td>1</td>\n",
       "    </tr>\n",
       "    <tr>\n",
       "      <th>1</th>\n",
       "      <td>608</td>\n",
       "      <td>Spain</td>\n",
       "      <td>Female</td>\n",
       "      <td>41</td>\n",
       "      <td>1</td>\n",
       "      <td>83807.86</td>\n",
       "      <td>1</td>\n",
       "      <td>0</td>\n",
       "      <td>1</td>\n",
       "      <td>112542.58</td>\n",
       "      <td>0</td>\n",
       "    </tr>\n",
       "    <tr>\n",
       "      <th>2</th>\n",
       "      <td>502</td>\n",
       "      <td>France</td>\n",
       "      <td>Female</td>\n",
       "      <td>42</td>\n",
       "      <td>8</td>\n",
       "      <td>159660.80</td>\n",
       "      <td>3</td>\n",
       "      <td>1</td>\n",
       "      <td>0</td>\n",
       "      <td>113931.57</td>\n",
       "      <td>1</td>\n",
       "    </tr>\n",
       "    <tr>\n",
       "      <th>3</th>\n",
       "      <td>699</td>\n",
       "      <td>France</td>\n",
       "      <td>Female</td>\n",
       "      <td>39</td>\n",
       "      <td>1</td>\n",
       "      <td>0.00</td>\n",
       "      <td>2</td>\n",
       "      <td>0</td>\n",
       "      <td>0</td>\n",
       "      <td>93826.63</td>\n",
       "      <td>0</td>\n",
       "    </tr>\n",
       "    <tr>\n",
       "      <th>4</th>\n",
       "      <td>850</td>\n",
       "      <td>Spain</td>\n",
       "      <td>Female</td>\n",
       "      <td>43</td>\n",
       "      <td>2</td>\n",
       "      <td>125510.82</td>\n",
       "      <td>1</td>\n",
       "      <td>1</td>\n",
       "      <td>1</td>\n",
       "      <td>79084.10</td>\n",
       "      <td>0</td>\n",
       "    </tr>\n",
       "  </tbody>\n",
       "</table>\n",
       "</div>"
      ],
      "text/plain": [
       "   CreditScore Geography  Gender  Age  Tenure    Balance  NumOfProducts  \\\n",
       "0          619    France  Female   42       2       0.00              1   \n",
       "1          608     Spain  Female   41       1   83807.86              1   \n",
       "2          502    France  Female   42       8  159660.80              3   \n",
       "3          699    France  Female   39       1       0.00              2   \n",
       "4          850     Spain  Female   43       2  125510.82              1   \n",
       "\n",
       "   HasCrCard  IsActiveMember  EstimatedSalary  Exited  \n",
       "0          1               1        101348.88       1  \n",
       "1          0               1        112542.58       0  \n",
       "2          1               0        113931.57       1  \n",
       "3          0               0         93826.63       0  \n",
       "4          1               1         79084.10       0  "
      ]
     },
     "execution_count": 7,
     "metadata": {},
     "output_type": "execute_result"
    }
   ],
   "source": [
    "#dopping unnecessary columns: RowNumber, CustomerId, Surname\n",
    "df = df.drop(['RowNumber','CustomerId','Surname'], axis = 1)\n",
    "df.head()"
   ]
  },
  {
   "cell_type": "code",
   "execution_count": 8,
   "metadata": {},
   "outputs": [],
   "source": [
    "#One-hot encode the dataframe: transforming categorical features into numerical \n",
    "df_ohe = pd.get_dummies(df, drop_first = True)\n",
    "\n",
    "#creating features and target\n",
    "features = df_ohe.drop(['Exited'], axis=1)\n",
    "target = df_ohe['Exited']\n",
    "\n",
    "#splitting the data \n",
    "features_train, features_test, target_train, target_test = train_test_split(features, target, test_size=0.20, random_state=12345)\n",
    "features_train, features_valid, target_train, target_valid = train_test_split(features_train, target_train, test_size=0.2, random_state=12345 )"
   ]
  },
  {
   "cell_type": "code",
   "execution_count": 9,
   "metadata": {
    "scrolled": true
   },
   "outputs": [
    {
     "name": "stdout",
     "output_type": "stream",
     "text": [
      "7963\n",
      "2037\n"
     ]
    },
    {
     "data": {
      "image/png": "[encoded data removed]",
      "text/plain": [
       "<Figure size 432x288 with 1 Axes>"
      ]
     },
     "metadata": {
      "needs_background": "light"
     },
     "output_type": "display_data"
    }
   ],
   "source": [
    "#checking the classes balance: \n",
    "print(df[df['Exited']==0]['Exited'].count())\n",
    "print(df[df['Exited']==1]['Exited'].count())\n",
    "\n",
    "#plotting the classes\n",
    "target = pd.value_counts(df['Exited'], sort=True)\n",
    "target.plot(kind='bar')\n",
    "plt.xlabel('Classes')\n",
    "plt.ylabel('Frequency')\n",
    "plt.title('Exited')\n",
    "plt.show()"
   ]
  },
  {
   "cell_type": "markdown",
   "metadata": {},
   "source": [
    "There is a class imbalance. Class \"0\" has a higher frequency than class \"1\"."
   ]
  },
  {
   "cell_type": "markdown",
   "metadata": {},
   "source": [
    "## Train Models w/ imbalanced classses"
   ]
  },
  {
   "cell_type": "code",
   "execution_count": 10,
   "metadata": {},
   "outputs": [],
   "source": [
    "#standardize the features\n",
    "numeric = ['CreditScore', 'Age', 'Balance', 'EstimatedSalary', 'Tenure', 'NumOfProducts']\n",
    "scaler = StandardScaler()\n",
    "scaler.fit(features_train[numeric])\n",
    "features_train.loc[:,numeric] = scaler.transform(features_train[numeric])\n",
    "features_valid.loc[:,numeric] = scaler.transform(features_valid[numeric])\n",
    "features_test.loc[:,numeric] = scaler.transform(features_test[numeric])"
   ]
  },
  {
   "cell_type": "code",
   "execution_count": 11,
   "metadata": {},
   "outputs": [
    {
     "name": "stdout",
     "output_type": "stream",
     "text": [
      "Accuracy score: 0.8175\n",
      "F1 score: 0.3145539906103286\n",
      "AUC-ROC: 0.7634576873261729\n"
     ]
    }
   ],
   "source": [
    "#train a logisticRegresison model\n",
    "logistic_model = LogisticRegression(random_state=12345, solver='liblinear')\n",
    "logistic_model.fit(features_train, target_train)\n",
    "predicted_valid = logistic_model.predict(features_valid)\n",
    "probabilities_valid = logistic_model.predict_proba(features_valid)\n",
    "probablities_one_valid = probabilities_valid[:,1]\n",
    "print('Accuracy score:', accuracy_score(target_valid, predicted_valid))\n",
    "print('F1 score:', f1_score(target_valid, predicted_valid))\n",
    "print('AUC-ROC:', roc_auc_score(target_valid, probablities_one_valid))"
   ]
  },
  {
   "cell_type": "markdown",
   "metadata": {},
   "source": [
    "With the logistic regression model with the imbalanced class, the accuracy score, F1 score, and AUC-ROC score is 0.81, 0.31, 0.76, respectively. "
   ]
  },
  {
   "cell_type": "code",
   "execution_count": 12,
   "metadata": {},
   "outputs": [
    {
     "name": "stdout",
     "output_type": "stream",
     "text": [
      "Accuracy score: 0.791875\n",
      "F1 score: 0.46203554119547663\n",
      "AUC-ROC: 0.6692812303589649\n"
     ]
    }
   ],
   "source": [
    "#decision tree model \n",
    "decision_model = DecisionTreeClassifier(random_state=12345)\n",
    "decision_model.fit(features_train, target_train)\n",
    "predicted_valid = decision_model.predict(features_valid)\n",
    "probabilities_valid = decision_model.predict_proba(features_valid)\n",
    "probablities_one_valid = probabilities_valid[:,1]\n",
    "print('Accuracy score:', accuracy_score(target_valid, predicted_valid))\n",
    "print('F1 score:', f1_score(target_valid, predicted_valid))\n",
    "print('AUC-ROC:', roc_auc_score(target_valid, probablities_one_valid))"
   ]
  },
  {
   "cell_type": "markdown",
   "metadata": {},
   "source": [
    "With the decision tree model with the imbalanced class, the accuracy score, F1 score and AUC-ROC score is 0.79, 0.46, and 0.66, respectively. Its F1 score is higher than logistic regression model but it has a lower AUC-ROC score. Because its F1 score is evidently higher than logistic regression model, we can say the decision tree model has a higher accuracy. "
   ]
  },
  {
   "cell_type": "code",
   "execution_count": 13,
   "metadata": {},
   "outputs": [
    {
     "name": "stdout",
     "output_type": "stream",
     "text": [
      "Accuracy score: 0.86625\n",
      "F1 score: 0.563265306122449\n",
      "AUC-ROC: 0.8488031532528735\n"
     ]
    }
   ],
   "source": [
    "#random forest model \n",
    "random_model = RandomForestClassifier(random_state=12345)\n",
    "random_model.fit(features_train, target_train)\n",
    "predicted_valid = random_model.predict(features_valid)\n",
    "probabilities_valid = random_model.predict_proba(features_valid)\n",
    "probablities_one_valid = probabilities_valid[:,1]\n",
    "print('Accuracy score:', accuracy_score(target_valid, predicted_valid))\n",
    "print('F1 score:', f1_score(target_valid, predicted_valid))\n",
    "print('AUC-ROC:', roc_auc_score(target_valid, probablities_one_valid))"
   ]
  },
  {
   "cell_type": "markdown",
   "metadata": {},
   "source": [
    "With the random forest model with the imbalanced class, the accuracy score, F1 score and AUC-ROC score is 0.86, 0.56, and 0.84, respectively. Its F1, accuracy and auc-roc score is higher than logistic regression  and decision tree models. With an imbalanced class, the random forest model yields the best result with its highest accuracy. Lets see if the result is different when the class is balanced."
   ]
  },
  {
   "cell_type": "markdown",
   "metadata": {},
   "source": [
    "## Train model with balanced classes"
   ]
  },
  {
   "cell_type": "markdown",
   "metadata": {},
   "source": [
    "# Logistic Model"
   ]
  },
  {
   "cell_type": "code",
   "execution_count": 14,
   "metadata": {},
   "outputs": [
    {
     "name": "stdout",
     "output_type": "stream",
     "text": [
      "Accuracy score: 0.70875\n",
      "F1 score: 0.46924829157175396\n",
      "AUC-ROC: 0.7666587784453079\n"
     ]
    }
   ],
   "source": [
    "#train a logisticRegresison model\n",
    "logistic_model_b = LogisticRegression(random_state=12345, solver='liblinear', class_weight = 'balanced')\n",
    "logistic_model_b.fit(features_train, target_train)\n",
    "predicted_valid = logistic_model_b.predict(features_valid)\n",
    "probabilities_valid = logistic_model_b.predict_proba(features_valid)\n",
    "probablities_one_valid = probabilities_valid[:,1]\n",
    "print('Accuracy score:', accuracy_score(target_valid, predicted_valid))\n",
    "print('F1 score:', f1_score(target_valid, predicted_valid))\n",
    "print('AUC-ROC:', roc_auc_score(target_valid, probablities_one_valid))"
   ]
  },
  {
   "cell_type": "markdown",
   "metadata": {},
   "source": [
    "When balanced the classes, the accuracy score of logistic regression decreases but the f_1 score and AUC-ROC score improve. "
   ]
  },
  {
   "cell_type": "code",
   "execution_count": 15,
   "metadata": {},
   "outputs": [
    {
     "name": "stdout",
     "output_type": "stream",
     "text": [
      "Max Depth:  1 F1 score: 0.47058823529411764\n",
      "Max Depth:  1 AUC-ROC: 0.6914954795402439\n",
      "Max Depth:  2 F1 score: 0.5006075334143378\n",
      "Max Depth:  2 AUC-ROC: 0.7476952398400982\n",
      "Max Depth:  3 F1 score: 0.5006075334143378\n",
      "Max Depth:  3 AUC-ROC: 0.7991786071436751\n",
      "Max Depth:  4 F1 score: 0.525030525030525\n",
      "Max Depth:  4 AUC-ROC: 0.8207528925598805\n",
      "Max Depth:  5 F1 score: 0.5445544554455446\n",
      "Max Depth:  5 AUC-ROC: 0.8316437272100379\n",
      "Max Depth:  6 F1 score: 0.5588972431077694\n",
      "Max Depth:  6 AUC-ROC: 0.8225455544783468\n",
      "Max Depth:  7 F1 score: 0.5477075588599752\n",
      "Max Depth:  7 AUC-ROC: 0.8093531404027065\n",
      "Max Depth:  8 F1 score: 0.5449936628643853\n",
      "Max Depth:  8 AUC-ROC: 0.7841731744492877\n",
      "Max Depth:  9 F1 score: 0.5269922879177379\n",
      "Max Depth:  9 AUC-ROC: 0.7588710682941848\n",
      "Max Depth:  10 F1 score: 0.5202614379084968\n",
      "Max Depth:  10 AUC-ROC: 0.7526928097590022\n"
     ]
    }
   ],
   "source": [
    "#decision model \n",
    "for depth in range(1,11):\n",
    "    decision_model_b = DecisionTreeClassifier(random_state=12345, class_weight='balanced', max_depth=depth)\n",
    "    decision_model_b.fit(features_train, target_train)\n",
    "    predicted_valid = decision_model_b.predict(features_valid)\n",
    "    probabilities_valid = decision_model_b.predict_proba(features_valid)\n",
    "    probablities_one_valid = probabilities_valid[:,1]\n",
    "    print('Max Depth: ',depth,'F1 score:', f1_score(target_valid, predicted_valid))\n",
    "    print('Max Depth: ',depth, 'AUC-ROC:', roc_auc_score(target_valid, probablities_one_valid))"
   ]
  },
  {
   "cell_type": "markdown",
   "metadata": {},
   "source": [
    "Compared to the unbalanced decision tree, the balanced decision tree has a higher f_1 and auc-roc score overall. Its scores are also higher than balanced logistic regression model. F_1 score is highest at max_depth = 6 with one of the highest score for auc-roc score. \n"
   ]
  },
  {
   "cell_type": "code",
   "execution_count": 16,
   "metadata": {},
   "outputs": [
    {
     "name": "stdout",
     "output_type": "stream",
     "text": [
      "Max Depth:  1 F1 score: 0.5183312262958281\n",
      "Max Depth:  1 AUC-ROC: 0.7881045621909917\n",
      "Max Depth:  2 F1 score: 0.5260545905707196\n",
      "Max Depth:  2 AUC-ROC: 0.809429478028759\n",
      "Max Depth:  3 F1 score: 0.5427509293680297\n",
      "Max Depth:  3 AUC-ROC: 0.8281690929308814\n",
      "Max Depth:  4 F1 score: 0.5582010582010581\n",
      "Max Depth:  4 AUC-ROC: 0.8359377186754912\n",
      "Max Depth:  5 F1 score: 0.5588235294117647\n",
      "Max Depth:  5 AUC-ROC: 0.8467458542307584\n",
      "Max Depth:  6 F1 score: 0.5640326975476839\n",
      "Max Depth:  6 AUC-ROC: 0.843762325345873\n",
      "Max Depth:  7 F1 score: 0.5669957686882934\n",
      "Max Depth:  7 AUC-ROC: 0.8487662567336148\n",
      "Max Depth:  8 F1 score: 0.5640287769784172\n",
      "Max Depth:  8 AUC-ROC: 0.8484112867724706\n",
      "Max Depth:  9 F1 score: 0.6021840873634946\n",
      "Max Depth:  9 AUC-ROC: 0.8500016539818978\n",
      "Max Depth:  10 F1 score: 0.5962145110410095\n",
      "Max Depth:  10 AUC-ROC: 0.8459761165013957\n"
     ]
    }
   ],
   "source": [
    "# Random Forest model\n",
    "for depth in range(1, 11):\n",
    "        random_model_b = RandomForestClassifier(random_state=12345, class_weight='balanced', n_estimators=20, max_depth = depth)\n",
    "        random_model_b.fit(features_train, target_train)\n",
    "        predicted_valid = random_model_b.predict(features_valid)\n",
    "        probabilities_valid = random_model_b.predict_proba(features_valid)\n",
    "        probablities_one_valid = probabilities_valid[:,1]\n",
    "        print('Max Depth: ',depth,'F1 score:', f1_score(target_valid, predicted_valid))\n",
    "        print('Max Depth: ',depth, 'AUC-ROC:', roc_auc_score(target_valid, probablities_one_valid))"
   ]
  },
  {
   "cell_type": "markdown",
   "metadata": {},
   "source": [
    "Random tree has a higher accuracy and auc-roc scores than logistic regression and decision tree. Its best max_depth = 9 with f_1 score of 0.60 and AU-ROC of 0.85. It's the only model that satistifes the f_1 score of at least 0.59. "
   ]
  },
  {
   "cell_type": "markdown",
   "metadata": {},
   "source": [
    "## Upsampling: "
   ]
  },
  {
   "cell_type": "code",
   "execution_count": 17,
   "metadata": {},
   "outputs": [],
   "source": [
    "def upsample(features, target, repeat):\n",
    "    features_zeros = features[target == 0]\n",
    "    features_ones = features[target == 1]\n",
    "    target_zeros = target[target == 0]\n",
    "    target_ones = target[target == 1]\n",
    "\n",
    "    features_upsampled = pd.concat([features_zeros] + [features_ones] * repeat)\n",
    "    target_upsampled = pd.concat([target_zeros] + [target_ones] * repeat)\n",
    "    \n",
    "    features_upsampled, target_upsampled = shuffle(\n",
    "        features_upsampled, target_upsampled, random_state=12345)\n",
    "    \n",
    "    return features_upsampled, target_upsampled\n",
    "\n",
    "features_upsampled, target_upsampled = upsample(features_train, target_train, 10)"
   ]
  },
  {
   "cell_type": "code",
   "execution_count": 18,
   "metadata": {},
   "outputs": [
    {
     "name": "stdout",
     "output_type": "stream",
     "text": [
      "F1 score: 0.39332870048644897\n",
      "AUC-ROC: 0.7678598237618673\n"
     ]
    }
   ],
   "source": [
    "#logistic regression model \n",
    "logistic_model_u = LogisticRegression(random_state=12345, solver='liblinear')\n",
    "logistic_model_u.fit(features_upsampled, target_upsampled)\n",
    "predicted_valid = logistic_model_u.predict(features_valid)\n",
    "probabilities_valid = logistic_model_u.predict_proba(features_valid)\n",
    "probablities_one_valid = probabilities_valid[:,1]\n",
    "print('F1 score:', f1_score(target_valid, predicted_valid))\n",
    "print('AUC-ROC:', roc_auc_score(target_valid, probablities_one_valid))"
   ]
  },
  {
   "cell_type": "markdown",
   "metadata": {},
   "source": [
    "With upsampling, the logistic regression model has a f1 score of 0.39 and AUC-ROC score of 0.76. Its AUC-ROC score is smiliar to the balanced and unbalanced logistic regression model, but its F1 score is smaller.  "
   ]
  },
  {
   "cell_type": "code",
   "execution_count": 19,
   "metadata": {},
   "outputs": [
    {
     "name": "stdout",
     "output_type": "stream",
     "text": [
      "Max Depth:  1 F1 score: 0.3184445612191277\n",
      "Max Depth:  1 AUC-ROC: 0.701401558814324\n",
      "Max Depth:  2 F1 score: 0.3922691481746599\n",
      "Max Depth:  2 AUC-ROC: 0.7522996709848317\n",
      "Max Depth:  3 F1 score: 0.41299638989169674\n",
      "Max Depth:  3 AUC-ROC: 0.8022639195299638\n",
      "Max Depth:  4 F1 score: 0.4895359417652411\n",
      "Max Depth:  4 AUC-ROC: 0.8204068286551092\n",
      "Max Depth:  5 F1 score: 0.45537948290241875\n",
      "Max Depth:  5 AUC-ROC: 0.8345203834184497\n",
      "Max Depth:  6 F1 score: 0.4594363791631084\n",
      "Max Depth:  6 AUC-ROC: 0.8344962098368667\n",
      "Max Depth:  7 F1 score: 0.46167883211678834\n",
      "Max Depth:  7 AUC-ROC: 0.799070462173434\n",
      "Max Depth:  8 F1 score: 0.44424131627056673\n",
      "Max Depth:  8 AUC-ROC: 0.7672465781659121\n",
      "Max Depth:  9 F1 score: 0.44083969465648853\n",
      "Max Depth:  9 AUC-ROC: 0.748592206946215\n",
      "Max Depth:  10 F1 score: 0.449531737773153\n",
      "Max Depth:  10 AUC-ROC: 0.7526470071833706\n"
     ]
    }
   ],
   "source": [
    "#decision tree model\n",
    "for depth in range(1,11):\n",
    "    decision_model_u = DecisionTreeClassifier(random_state=12345, max_depth=depth)\n",
    "    decision_model_u.fit(features_upsampled, target_upsampled)\n",
    "    predicted_valid = decision_model_u.predict(features_valid)\n",
    "    probabilities_valid = decision_model_u.predict_proba(features_valid)\n",
    "    probablities_one_valid = probabilities_valid[:,1]\n",
    "    print('Max Depth: ',depth,'F1 score:', f1_score(target_valid, predicted_valid))\n",
    "    print('Max Depth: ',depth, 'AUC-ROC:', roc_auc_score(target_valid, probablities_one_valid))"
   ]
  },
  {
   "cell_type": "markdown",
   "metadata": {},
   "source": [
    "Max_depth = 4 gives the best F1 and AU-ROC scores of .48 and .82, respectively. The F1 and au-roc score is higher than the logistic regression of the upsampled data. It has a smaller f1 score than the unbalanced and balanced decision tree models."
   ]
  },
  {
   "cell_type": "code",
   "execution_count": 20,
   "metadata": {},
   "outputs": [
    {
     "name": "stdout",
     "output_type": "stream",
     "text": [
      "Max Depth:  1 F1 score: 0.3184445612191277\n",
      "Max Depth:  1 AUC-ROC: 0.7844874310098704\n",
      "Max Depth:  2 F1 score: 0.3184445612191277\n",
      "Max Depth:  2 AUC-ROC: 0.8104854818558186\n",
      "Max Depth:  3 F1 score: 0.35693039857227843\n",
      "Max Depth:  3 AUC-ROC: 0.8271576193856857\n",
      "Max Depth:  4 F1 score: 0.40082361015785856\n",
      "Max Depth:  4 AUC-ROC: 0.8418335279942798\n",
      "Max Depth:  5 F1 score: 0.42406015037593975\n",
      "Max Depth:  5 AUC-ROC: 0.85151695585904\n",
      "Max Depth:  6 F1 score: 0.43545878693623635\n",
      "Max Depth:  6 AUC-ROC: 0.8518604751762763\n",
      "Max Depth:  7 F1 score: 0.45865302642796246\n",
      "Max Depth:  7 AUC-ROC: 0.8513693697820054\n",
      "Max Depth:  8 F1 score: 0.4737327188940092\n",
      "Max Depth:  8 AUC-ROC: 0.8462203969047637\n",
      "Max Depth:  9 F1 score: 0.4990059642147118\n",
      "Max Depth:  9 AUC-ROC: 0.8441452857699031\n",
      "Max Depth:  10 F1 score: 0.5190839694656488\n",
      "Max Depth:  10 AUC-ROC: 0.8407813410485228\n"
     ]
    }
   ],
   "source": [
    "#random forest model\n",
    "for depth in range(1, 11):\n",
    "        random_model_u = RandomForestClassifier(random_state=12345, n_estimators=20, max_depth = depth)\n",
    "        random_model_u.fit(features_upsampled, target_upsampled)\n",
    "        predicted_valid = random_model_u.predict(features_valid)\n",
    "        probabilities_valid = random_model_u.predict_proba(features_valid)\n",
    "        probablities_one_valid = probabilities_valid[:,1]\n",
    "        print('Max Depth: ',depth,'F1 score:', f1_score(target_valid, predicted_valid))\n",
    "        print('Max Depth: ',depth, 'AUC-ROC:', roc_auc_score(target_valid, probablities_one_valid))"
   ]
  },
  {
   "cell_type": "markdown",
   "metadata": {},
   "source": [
    "Max depth = 10 gives the random forest model the best f_1 score of 0.51 but max depth = 6 gives the best auc-roc score of .85. It has the best scores of all the upsampled models but it has the lowest score when compares to unbalanced and balanced random forest models."
   ]
  },
  {
   "cell_type": "code",
   "execution_count": 21,
   "metadata": {},
   "outputs": [],
   "source": [
    "def downsample(features, target, fraction): \n",
    "    features_zeros =  features[target ==0]\n",
    "    features_ones =  features[target ==1]\n",
    "    target_zeros =  target[target ==0]\n",
    "    target_ones =  target[target ==1]\n",
    "    \n",
    "    features_downsampled = pd.concat([features_zeros.sample(frac=fraction, random_state=12345)] + [features_ones])\n",
    "    target_downsampled = pd.concat([target_zeros.sample(frac=fraction, random_state=12345)] + [target_ones])\n",
    "    \n",
    "    features_downsampled, target_downsampled = shuffle(features_downsampled, target_downsampled,random_state=12345)\n",
    "    \n",
    "    return features_downsampled, target_downsampled\n",
    "\n",
    "features_downsampled, target_downsampled = downsample( features_train, target_train, 0.1)"
   ]
  },
  {
   "cell_type": "code",
   "execution_count": 22,
   "metadata": {},
   "outputs": [
    {
     "name": "stdout",
     "output_type": "stream",
     "text": [
      "F1 score: 0.39145416953824946\n",
      "AUC-ROC: 0.7647757836693462\n"
     ]
    }
   ],
   "source": [
    "#logistic regression model \n",
    "logistic_model_d = LogisticRegression(random_state=12345, solver='liblinear')\n",
    "logistic_model_d.fit(features_downsampled, target_downsampled)\n",
    "predicted_valid = logistic_model_d.predict(features_valid)\n",
    "probabilities_valid = logistic_model_d.predict_proba(features_valid)\n",
    "probablities_one_valid = probabilities_valid[:,1]\n",
    "print('F1 score:', f1_score(target_valid, predicted_valid))\n",
    "print('AUC-ROC:', roc_auc_score(target_valid, probablities_one_valid))"
   ]
  },
  {
   "cell_type": "markdown",
   "metadata": {},
   "source": [
    "The downsampled of logistic regression gives a f1 score of 0.39 and auc-roc score of 0.76; they are similar scores as the upsampled logistic regression but balanced and unbalanced has a higher f1 score. "
   ]
  },
  {
   "cell_type": "code",
   "execution_count": 23,
   "metadata": {},
   "outputs": [
    {
     "name": "stdout",
     "output_type": "stream",
     "text": [
      "Max Depth:  1 F1 score: 0.3184445612191277\n",
      "Max Depth:  1 AUC-ROC: 0.6914954795402439\n",
      "Max Depth:  2 F1 score: 0.3184445612191277\n",
      "Max Depth:  2 AUC-ROC: 0.7476952398400982\n",
      "Max Depth:  3 F1 score: 0.4176470588235294\n",
      "Max Depth:  3 AUC-ROC: 0.7817430933532828\n",
      "Max Depth:  4 F1 score: 0.4164827078734364\n",
      "Max Depth:  4 AUC-ROC: 0.7996697125379462\n",
      "Max Depth:  5 F1 score: 0.4440894568690095\n",
      "Max Depth:  5 AUC-ROC: 0.8211549373904237\n",
      "Max Depth:  6 F1 score: 0.4373503591380686\n",
      "Max Depth:  6 AUC-ROC: 0.821009895900924\n",
      "Max Depth:  7 F1 score: 0.4256651017214398\n",
      "Max Depth:  7 AUC-ROC: 0.7851172164248036\n",
      "Max Depth:  8 F1 score: 0.4423076923076923\n",
      "Max Depth:  8 AUC-ROC: 0.7514510510418814\n",
      "Max Depth:  9 F1 score: 0.43201376936316693\n",
      "Max Depth:  9 AUC-ROC: 0.7241285423839223\n",
      "Max Depth:  10 F1 score: 0.4392764857881136\n",
      "Max Depth:  10 AUC-ROC: 0.7037807481596271\n"
     ]
    }
   ],
   "source": [
    "#decision tree model\n",
    "for depth in range(1,11):\n",
    "    decision_model_d = DecisionTreeClassifier(random_state=12345, max_depth=depth)\n",
    "    decision_model_d.fit(features_downsampled, target_downsampled)\n",
    "    predicted_valid = decision_model_d.predict(features_valid)\n",
    "    probabilities_valid = decision_model_d.predict_proba(features_valid)\n",
    "    probablities_one_valid = probabilities_valid[:,1]\n",
    "    print('Max Depth: ',depth,'F1 score:', f1_score(target_valid, predicted_valid))\n",
    "    print('Max Depth: ',depth, 'AUC-ROC:', roc_auc_score(target_valid, probablities_one_valid))"
   ]
  },
  {
   "cell_type": "markdown",
   "metadata": {},
   "source": [
    "Max depth = 5 gives us the best f1 and auc-roc score of 0.44 and 0.82, respectively. It has higher scores than logistic regression but its f1 score is smaller than its other parameter decision tree models. "
   ]
  },
  {
   "cell_type": "code",
   "execution_count": 24,
   "metadata": {},
   "outputs": [
    {
     "name": "stdout",
     "output_type": "stream",
     "text": [
      "Max Depth:  1 F1 score: 0.3184445612191277\n",
      "Max Depth:  1 AUC-ROC: 0.7674476005811838\n",
      "Max Depth:  2 F1 score: 0.3184445612191277\n",
      "Max Depth:  2 AUC-ROC: 0.7914506947996265\n",
      "Max Depth:  3 F1 score: 0.36111111111111105\n",
      "Max Depth:  3 AUC-ROC: 0.8136229582865765\n",
      "Max Depth:  4 F1 score: 0.3943472409152086\n",
      "Max Depth:  4 AUC-ROC: 0.8390332094119205\n",
      "Max Depth:  5 F1 score: 0.40779401530967296\n",
      "Max Depth:  5 AUC-ROC: 0.8425307449788927\n",
      "Max Depth:  6 F1 score: 0.4278312361213915\n",
      "Max Depth:  6 AUC-ROC: 0.8435918379810224\n",
      "Max Depth:  7 F1 score: 0.43399089529590296\n",
      "Max Depth:  7 AUC-ROC: 0.8455359028578262\n",
      "Max Depth:  8 F1 score: 0.4404669260700389\n",
      "Max Depth:  8 AUC-ROC: 0.8427228613377915\n",
      "Max Depth:  9 F1 score: 0.43856920684292383\n",
      "Max Depth:  9 AUC-ROC: 0.8363448526811046\n",
      "Max Depth:  10 F1 score: 0.4530120481927711\n",
      "Max Depth:  10 AUC-ROC: 0.8374288469710501\n"
     ]
    }
   ],
   "source": [
    "#random forest model \n",
    "for depth in range(1, 11):\n",
    "    random_model_d = RandomForestClassifier(random_state=12345, n_estimators=20, max_depth = depth)\n",
    "    random_model_d.fit(features_downsampled, target_downsampled)\n",
    "    predicted_valid = random_model_d.predict(features_valid)\n",
    "    probabilities_valid = random_model_d.predict_proba(features_valid)\n",
    "    probablities_one_valid = probabilities_valid[:,1]\n",
    "    print('Max Depth: ',depth,'F1 score:', f1_score(target_valid, predicted_valid))\n",
    "    print('Max Depth: ',depth, 'AUC-ROC:', roc_auc_score(target_valid, probablities_one_valid))"
   ]
  },
  {
   "cell_type": "markdown",
   "metadata": {},
   "source": [
    "Max depth = 10 gives the best f1 score of 0.45 and max depth = 7 gives the best auc-roc score of 0.845. Its has the best scores compared to other downsampled models. When comparing it to the unbalanced and balanced random forest models, it has a similar auc-roc score but the lowest f1 score. "
   ]
  },
  {
   "cell_type": "markdown",
   "metadata": {},
   "source": [
    "Summary of all the tests: Random forest model is consistently the best model in every condiitons (unbalanced, balanced, umsampling, and downsampling). Then follow by decision tree and lastly logistic regression models. For random forest model, all of the conditions have a similar au-roc score of 0.84-0.85; f1 score: balanced class > imbalanced class > upsampling > downsampling. Balanced class has the highest f1 score of 0.60 which satifies the threshold of at least 0.59. The balanced random forest will be used to perform the final test because it is the best model. "
   ]
  },
  {
   "cell_type": "markdown",
   "metadata": {},
   "source": [
    "## Final Testing "
   ]
  },
  {
   "cell_type": "code",
   "execution_count": 25,
   "metadata": {},
   "outputs": [
    {
     "name": "stdout",
     "output_type": "stream",
     "text": [
      "F1: 0.6368715083798883\n",
      "AUC-ROC: 0.8681140022421692\n"
     ]
    }
   ],
   "source": [
    "#calculating the F1 score and AU-ROC score for the test dataset \n",
    "random_model = RandomForestClassifier(random_state=12345, max_depth = 9,class_weight='balanced')\n",
    "random_model.fit(features_train, target_train)\n",
    "predicted_test = random_model.predict(features_test)\n",
    "print(\"F1:\", f1_score(target_test, predicted_test))\n",
    "print(\"AUC-ROC:\", roc_auc_score(target_test, random_model.predict_proba(features_test)[:,1]))"
   ]
  },
  {
   "cell_type": "code",
   "execution_count": 26,
   "metadata": {},
   "outputs": [
    {
     "data": {
      "image/png": "[encoded data removed]",
      "text/plain": [
       "<Figure size 432x288 with 1 Axes>"
      ]
     },
     "metadata": {
      "needs_background": "light"
     },
     "output_type": "display_data"
    }
   ],
   "source": [
    "#plotting a AUC-ROC curve\n",
    "probabilities_test = random_model.predict_proba(features_test)\n",
    "probabilities_one_test = probabilities_test[:,1]\n",
    "fpr, tpr, threshold = roc_curve(target_test,probabilities_one_test)\n",
    "plt.figure()\n",
    "plt.plot(fpr,tpr)\n",
    "plt.plot([0, 1], [0, 1], linestyle='--')\n",
    "plt.xlim([0.0,1.0])\n",
    "plt.ylim([0.0,1.0])\n",
    "plt.xlabel('False Positive Rate')\n",
    "plt.ylabel('True Positive Rate')\n",
    "plt.title('ROC curve')\n",
    "plt.show()"
   ]
  },
  {
   "cell_type": "markdown",
   "metadata": {},
   "source": [
    "The AUC-ROC score for the test using random forest model is  0.86, which is higher than the random model of 0.50. An AUR-ROC score of 0.86 indicates that this a fairly good and efficient model at distinguishing between classes because it is fairly closed to a perfect score of 1."
   ]
  },
  {
   "cell_type": "code",
   "execution_count": 27,
   "metadata": {},
   "outputs": [
    {
     "data": {
      "image/png": "[encoded data removed]",
      "text/plain": [
       "<Figure size 432x432 with 1 Axes>"
      ]
     },
     "metadata": {
      "needs_background": "light"
     },
     "output_type": "display_data"
    }
   ],
   "source": [
    "precision, recall, thresholds = precision_recall_curve(target_test, probabilities_one_test)\n",
    "plt.figure(figsize=(6, 6))\n",
    "plt.step(recall, precision, where='post')\n",
    "plt.xlabel('Recall')\n",
    "plt.ylabel('Precision')\n",
    "plt.ylim([0.0, 1.05])\n",
    "plt.xlim([0.0, 1.0])\n",
    "plt.title('Precision-Recall Curve')\n",
    "plt.show()"
   ]
  },
  {
   "cell_type": "markdown",
   "metadata": {},
   "source": [
    "The PR curve is high, which indicates that the model is working pretty well. "
   ]
  },
  {
   "cell_type": "markdown",
   "metadata": {},
   "source": [
    "## Conclusion"
   ]
  },
  {
   "cell_type": "markdown",
   "metadata": {},
   "source": [
    "Our findings are: \n",
    "\n",
    "1. Random forest is the best model, follows by decision tree, then logistic regression. \n",
    "2. Best F1 scores are as followed: balanced class > imbalanced class > upsampling > downsampling.\n",
    "3. The balanced random forest model gives us the best f1_score and AU-ROC score at max_depth = 9. Thus this was use to perform on the test dataset\n",
    "4. Final testing results in the f1 score of 0.63 and AU-ROC score of 0.86, which satifies the f1 score threshold of 0.59. Also, an indication of a good working model. \n",
    "5. ROC curve is plotted and it is higher than the random model of 0.50\n",
    "6. PR curve is also plotted and it is high. \n",
    "\n",
    "The finding results tell us that a balanced random forest model is a good model which gives us a good f_1 score, au-roc score and curves. "
   ]
  }
 ],
 "metadata": {
  "kernelspec": {
   "display_name": "Python 3 (ipykernel)",
   "language": "python",
   "name": "python3"
  },
  "language_info": {
   "codemirror_mode": {
    "name": "ipython",
    "version": 3
   },
   "file_extension": ".py",
   "mimetype": "text/x-python",
   "name": "python",
   "nbconvert_exporter": "python",
   "pygments_lexer": "ipython3",
   "version": "3.9.5"
  },
  "toc": {
   "base_numbering": 1,
   "nav_menu": {},
   "number_sections": true,
   "sideBar": true,
   "skip_h1_title": true,
   "title_cell": "Table of Contents",
   "title_sidebar": "Contents",
   "toc_cell": false,
   "toc_position": {},
   "toc_section_display": true,
   "toc_window_display": false
  }
 },
 "nbformat": 4,
 "nbformat_minor": 2
}
